{
 "cells": [
  {
   "cell_type": "code",
   "execution_count": 1,
   "id": "adb4df22",
   "metadata": {},
   "outputs": [
    {
     "name": "stdout",
     "output_type": "stream",
     "text": [
      "Requirement already satisfied: torch in c:\\users\\administrator\\appdata\\local\\programs\\python\\python38\\lib\\site-packages (2.0.0)\n",
      "Requirement already satisfied: typing-extensions in c:\\users\\administrator\\appdata\\local\\programs\\python\\python38\\lib\\site-packages (from torch) (4.5.0)\n",
      "Requirement already satisfied: filelock in c:\\users\\administrator\\appdata\\local\\programs\\python\\python38\\lib\\site-packages (from torch) (3.10.0)\n",
      "Requirement already satisfied: jinja2 in c:\\users\\administrator\\appdata\\local\\programs\\python\\python38\\lib\\site-packages (from torch) (3.1.2)\n",
      "Requirement already satisfied: networkx in c:\\users\\administrator\\appdata\\local\\programs\\python\\python38\\lib\\site-packages (from torch) (3.0)\n",
      "Requirement already satisfied: sympy in c:\\users\\administrator\\appdata\\local\\programs\\python\\python38\\lib\\site-packages (from torch) (1.11.1)\n",
      "Requirement already satisfied: MarkupSafe>=2.0 in c:\\users\\administrator\\appdata\\local\\programs\\python\\python38\\lib\\site-packages (from jinja2->torch) (2.1.2)\n",
      "Requirement already satisfied: mpmath>=0.19 in c:\\users\\administrator\\appdata\\local\\programs\\python\\python38\\lib\\site-packages (from sympy->torch) (1.3.0)\n"
     ]
    }
   ],
   "source": [
    "!pip install torch\n",
    "# Torch를 기반으로 하며, 자연어 처리와 같은 애플리케이션을 위해 사용된다. \n",
    "# GPU사용이 가능하기 때문에 속도가 상당히 빠르다"
   ]
  },
  {
   "cell_type": "code",
   "execution_count": 2,
   "id": "38a9918d",
   "metadata": {},
   "outputs": [
    {
     "name": "stdout",
     "output_type": "stream",
     "text": [
      "Requirement already satisfied: torchvision in c:\\users\\administrator\\appdata\\local\\programs\\python\\python38\\lib\\site-packages (0.15.1)\n",
      "Requirement already satisfied: numpy in c:\\users\\administrator\\appdata\\local\\programs\\python\\python38\\lib\\site-packages (from torchvision) (1.24.2)\n",
      "Requirement already satisfied: requests in c:\\users\\administrator\\appdata\\local\\programs\\python\\python38\\lib\\site-packages (from torchvision) (2.28.2)\n",
      "Requirement already satisfied: pillow!=8.3.*,>=5.3.0 in c:\\users\\administrator\\appdata\\local\\programs\\python\\python38\\lib\\site-packages (from torchvision) (9.4.0)\n",
      "Requirement already satisfied: torch==2.0.0 in c:\\users\\administrator\\appdata\\local\\programs\\python\\python38\\lib\\site-packages (from torchvision) (2.0.0)\n",
      "Requirement already satisfied: sympy in c:\\users\\administrator\\appdata\\local\\programs\\python\\python38\\lib\\site-packages (from torch==2.0.0->torchvision) (1.11.1)\n",
      "Requirement already satisfied: filelock in c:\\users\\administrator\\appdata\\local\\programs\\python\\python38\\lib\\site-packages (from torch==2.0.0->torchvision) (3.10.0)\n",
      "Requirement already satisfied: jinja2 in c:\\users\\administrator\\appdata\\local\\programs\\python\\python38\\lib\\site-packages (from torch==2.0.0->torchvision) (3.1.2)\n",
      "Requirement already satisfied: typing-extensions in c:\\users\\administrator\\appdata\\local\\programs\\python\\python38\\lib\\site-packages (from torch==2.0.0->torchvision) (4.5.0)\n",
      "Requirement already satisfied: networkx in c:\\users\\administrator\\appdata\\local\\programs\\python\\python38\\lib\\site-packages (from torch==2.0.0->torchvision) (3.0)\n",
      "Requirement already satisfied: urllib3<1.27,>=1.21.1 in c:\\users\\administrator\\appdata\\local\\programs\\python\\python38\\lib\\site-packages (from requests->torchvision) (1.26.15)\n",
      "Requirement already satisfied: idna<4,>=2.5 in c:\\users\\administrator\\appdata\\local\\programs\\python\\python38\\lib\\site-packages (from requests->torchvision) (3.4)\n",
      "Requirement already satisfied: charset-normalizer<4,>=2 in c:\\users\\administrator\\appdata\\local\\programs\\python\\python38\\lib\\site-packages (from requests->torchvision) (3.1.0)\n",
      "Requirement already satisfied: certifi>=2017.4.17 in c:\\users\\administrator\\appdata\\local\\programs\\python\\python38\\lib\\site-packages (from requests->torchvision) (2022.12.7)\n",
      "Requirement already satisfied: MarkupSafe>=2.0 in c:\\users\\administrator\\appdata\\local\\programs\\python\\python38\\lib\\site-packages (from jinja2->torch==2.0.0->torchvision) (2.1.2)\n",
      "Requirement already satisfied: mpmath>=0.19 in c:\\users\\administrator\\appdata\\local\\programs\\python\\python38\\lib\\site-packages (from sympy->torch==2.0.0->torchvision) (1.3.0)\n"
     ]
    }
   ],
   "source": [
    "!pip install torchvision\n",
    "# 파이토치가 제공하는 다양한 모델을 가져다 쓰기 위해 사용되는 라이브러리"
   ]
  },
  {
   "cell_type": "code",
   "execution_count": 3,
   "id": "b17613d1",
   "metadata": {},
   "outputs": [
    {
     "name": "stdout",
     "output_type": "stream",
     "text": [
      "Requirement already satisfied: ipywidgets in c:\\users\\administrator\\appdata\\local\\programs\\python\\python38\\lib\\site-packages (8.0.4)\n",
      "Requirement already satisfied: traitlets>=4.3.1 in c:\\users\\administrator\\appdata\\local\\programs\\python\\python38\\lib\\site-packages (from ipywidgets) (5.9.0)\n",
      "Requirement already satisfied: ipykernel>=4.5.1 in c:\\users\\administrator\\appdata\\local\\programs\\python\\python38\\lib\\site-packages (from ipywidgets) (6.21.3)\n",
      "Requirement already satisfied: widgetsnbextension~=4.0 in c:\\users\\administrator\\appdata\\local\\programs\\python\\python38\\lib\\site-packages (from ipywidgets) (4.0.5)\n",
      "Requirement already satisfied: ipython>=6.1.0 in c:\\users\\administrator\\appdata\\local\\programs\\python\\python38\\lib\\site-packages (from ipywidgets) (8.11.0)\n",
      "Requirement already satisfied: jupyterlab-widgets~=3.0 in c:\\users\\administrator\\appdata\\local\\programs\\python\\python38\\lib\\site-packages (from ipywidgets) (3.0.5)\n",
      "Requirement already satisfied: pyzmq>=20 in c:\\users\\administrator\\appdata\\local\\programs\\python\\python38\\lib\\site-packages (from ipykernel>=4.5.1->ipywidgets) (25.0.1)\n",
      "Requirement already satisfied: matplotlib-inline>=0.1 in c:\\users\\administrator\\appdata\\local\\programs\\python\\python38\\lib\\site-packages (from ipykernel>=4.5.1->ipywidgets) (0.1.6)\n",
      "Requirement already satisfied: jupyter-core!=5.0.*,>=4.12 in c:\\users\\administrator\\appdata\\local\\programs\\python\\python38\\lib\\site-packages (from ipykernel>=4.5.1->ipywidgets) (5.2.0)\n",
      "Requirement already satisfied: tornado>=6.1 in c:\\users\\administrator\\appdata\\local\\programs\\python\\python38\\lib\\site-packages (from ipykernel>=4.5.1->ipywidgets) (6.2)\n",
      "Requirement already satisfied: psutil in c:\\users\\administrator\\appdata\\local\\programs\\python\\python38\\lib\\site-packages (from ipykernel>=4.5.1->ipywidgets) (5.9.4)\n",
      "Requirement already satisfied: packaging in c:\\users\\administrator\\appdata\\local\\programs\\python\\python38\\lib\\site-packages (from ipykernel>=4.5.1->ipywidgets) (23.0)\n",
      "Requirement already satisfied: debugpy>=1.6.5 in c:\\users\\administrator\\appdata\\local\\programs\\python\\python38\\lib\\site-packages (from ipykernel>=4.5.1->ipywidgets) (1.6.6)\n",
      "Requirement already satisfied: nest-asyncio in c:\\users\\administrator\\appdata\\local\\programs\\python\\python38\\lib\\site-packages (from ipykernel>=4.5.1->ipywidgets) (1.5.6)\n",
      "Requirement already satisfied: comm>=0.1.1 in c:\\users\\administrator\\appdata\\local\\programs\\python\\python38\\lib\\site-packages (from ipykernel>=4.5.1->ipywidgets) (0.1.2)\n",
      "Requirement already satisfied: jupyter-client>=6.1.12 in c:\\users\\administrator\\appdata\\local\\programs\\python\\python38\\lib\\site-packages (from ipykernel>=4.5.1->ipywidgets) (8.0.3)\n",
      "Requirement already satisfied: backcall in c:\\users\\administrator\\appdata\\local\\programs\\python\\python38\\lib\\site-packages (from ipython>=6.1.0->ipywidgets) (0.2.0)\n",
      "Requirement already satisfied: colorama in c:\\users\\administrator\\appdata\\local\\programs\\python\\python38\\lib\\site-packages (from ipython>=6.1.0->ipywidgets) (0.4.6)\n",
      "Requirement already satisfied: jedi>=0.16 in c:\\users\\administrator\\appdata\\local\\programs\\python\\python38\\lib\\site-packages (from ipython>=6.1.0->ipywidgets) (0.18.2)\n",
      "Requirement already satisfied: prompt-toolkit!=3.0.37,<3.1.0,>=3.0.30 in c:\\users\\administrator\\appdata\\local\\programs\\python\\python38\\lib\\site-packages (from ipython>=6.1.0->ipywidgets) (3.0.38)\n",
      "Requirement already satisfied: pickleshare in c:\\users\\administrator\\appdata\\local\\programs\\python\\python38\\lib\\site-packages (from ipython>=6.1.0->ipywidgets) (0.7.5)\n",
      "Requirement already satisfied: pygments>=2.4.0 in c:\\users\\administrator\\appdata\\local\\programs\\python\\python38\\lib\\site-packages (from ipython>=6.1.0->ipywidgets) (2.14.0)\n",
      "Requirement already satisfied: stack-data in c:\\users\\administrator\\appdata\\local\\programs\\python\\python38\\lib\\site-packages (from ipython>=6.1.0->ipywidgets) (0.6.2)\n",
      "Requirement already satisfied: decorator in c:\\users\\administrator\\appdata\\local\\programs\\python\\python38\\lib\\site-packages (from ipython>=6.1.0->ipywidgets) (5.1.1)\n",
      "Requirement already satisfied: parso<0.9.0,>=0.8.0 in c:\\users\\administrator\\appdata\\local\\programs\\python\\python38\\lib\\site-packages (from jedi>=0.16->ipython>=6.1.0->ipywidgets) (0.8.3)\n",
      "Requirement already satisfied: importlib-metadata>=4.8.3 in c:\\users\\administrator\\appdata\\local\\programs\\python\\python38\\lib\\site-packages (from jupyter-client>=6.1.12->ipykernel>=4.5.1->ipywidgets) (6.0.0)\n",
      "Requirement already satisfied: python-dateutil>=2.8.2 in c:\\users\\administrator\\appdata\\local\\programs\\python\\python38\\lib\\site-packages (from jupyter-client>=6.1.12->ipykernel>=4.5.1->ipywidgets) (2.8.2)\n",
      "Requirement already satisfied: platformdirs>=2.5 in c:\\users\\administrator\\appdata\\local\\programs\\python\\python38\\lib\\site-packages (from jupyter-core!=5.0.*,>=4.12->ipykernel>=4.5.1->ipywidgets) (3.1.1)\n",
      "Requirement already satisfied: pywin32>=1.0 in c:\\users\\administrator\\appdata\\local\\programs\\python\\python38\\lib\\site-packages (from jupyter-core!=5.0.*,>=4.12->ipykernel>=4.5.1->ipywidgets) (305)\n",
      "Requirement already satisfied: wcwidth in c:\\users\\administrator\\appdata\\local\\programs\\python\\python38\\lib\\site-packages (from prompt-toolkit!=3.0.37,<3.1.0,>=3.0.30->ipython>=6.1.0->ipywidgets) (0.2.6)\n",
      "Requirement already satisfied: asttokens>=2.1.0 in c:\\users\\administrator\\appdata\\local\\programs\\python\\python38\\lib\\site-packages (from stack-data->ipython>=6.1.0->ipywidgets) (2.2.1)\n",
      "Requirement already satisfied: pure-eval in c:\\users\\administrator\\appdata\\local\\programs\\python\\python38\\lib\\site-packages (from stack-data->ipython>=6.1.0->ipywidgets) (0.2.2)\n",
      "Requirement already satisfied: executing>=1.2.0 in c:\\users\\administrator\\appdata\\local\\programs\\python\\python38\\lib\\site-packages (from stack-data->ipython>=6.1.0->ipywidgets) (1.2.0)\n",
      "Requirement already satisfied: six in c:\\users\\administrator\\appdata\\local\\programs\\python\\python38\\lib\\site-packages (from asttokens>=2.1.0->stack-data->ipython>=6.1.0->ipywidgets) (1.16.0)\n",
      "Requirement already satisfied: zipp>=0.5 in c:\\users\\administrator\\appdata\\local\\programs\\python\\python38\\lib\\site-packages (from importlib-metadata>=4.8.3->jupyter-client>=6.1.12->ipykernel>=4.5.1->ipywidgets) (3.15.0)\n"
     ]
    }
   ],
   "source": [
    "!pip install ipywidgets\n",
    "# 이미지를 커서를 가지고 이동하면서 이미지를 볼 수 있게하는 라이브러리(슬라이딩 등)"
   ]
  },
  {
   "cell_type": "code",
   "execution_count": 4,
   "id": "93de4393",
   "metadata": {},
   "outputs": [],
   "source": [
    "import torch\n",
    "import copy\n",
    "import os\n",
    "import cv2\n",
    "import matplotlib.pyplot as plt\n",
    "from torch.utils.data import Dataset, DataLoader\n",
    "from torchvision import transforms, models\n",
    "from ipywidgets import interact\n",
    "from torch import nn"
   ]
  },
  {
   "cell_type": "markdown",
   "id": "c63fa4ce",
   "metadata": {},
   "source": [
    "# 1. 이미지 파일 경로 불러오기"
   ]
  },
  {
   "cell_type": "code",
   "execution_count": 5,
   "id": "9ac9c3f8",
   "metadata": {},
   "outputs": [],
   "source": [
    "def list_image_file(data_dir, sub_dir): # './Covid19-dataset/train/', 'Normal'\n",
    "    image_format = ['jpeg', 'jpg', 'png']\n",
    "    image_files = []\n",
    "    \n",
    "    image_dir = os.path.join(data_dir, sub_dir) # './Covid19-dataset/train/Normal'\n",
    "#     print(images_dir)\n",
    "# 이미지 디렉토리를 만들어서 os.listdir : 경로에 있는 파일을 리스트화하여 file_path에 넣어 줘라\n",
    "    for file_path in os.listdir(image_dir):\n",
    "         # 점을 기준으로 (파일이름이랑 확장명 기준으로) [-1] : 끝에거(확장명) \n",
    "        # image_format(확장명) -> 이 있다면 \n",
    "        if file_path.split('.')[-1] in image_format:\n",
    "             # 파일 이름 경로들을 합처서 넣어라 -> Normal\\\\001.jpeg\n",
    "            image_files.append(os.path.join(sub_dir, file_path))\n",
    "    return image_files"
   ]
  },
  {
   "cell_type": "code",
   "execution_count": 6,
   "id": "4fb490a1",
   "metadata": {},
   "outputs": [],
   "source": [
    "data_dir = './Covid19-dataset/train/'\n",
    "normals_list = list_image_file(data_dir, 'Normal')\n",
    "covids_list = list_image_file(data_dir, 'Covid') # Covid : 폴더이름\n",
    "pneumonias_list = list_image_file(data_dir, 'Viral Pneumonia')"
   ]
  },
  {
   "cell_type": "code",
   "execution_count": 7,
   "id": "7ad168bd",
   "metadata": {},
   "outputs": [
    {
     "name": "stdout",
     "output_type": "stream",
     "text": [
      "70\n",
      "111\n",
      "70\n"
     ]
    }
   ],
   "source": [
    "print(len(normals_list))\n",
    "print(len(covids_list))\n",
    "print(len(pneumonias_list))"
   ]
  },
  {
   "cell_type": "markdown",
   "id": "96424af8",
   "metadata": {},
   "source": [
    "# 2. 이미지 파일을 RGB3차원 배열로 불러오기"
   ]
  },
  {
   "cell_type": "code",
   "execution_count": 8,
   "id": "b0d6707a",
   "metadata": {},
   "outputs": [],
   "source": [
    "def get_RGB_image(data_dir, file_name):\n",
    "    # 경로화 시키기 path.join() : 스트링 값으로 사용하지 않는 이유는 특정 함수에서 경로로 인식되지 \n",
    "    # 않기 때문에 join 방식을 합치는것이 이유이다.\n",
    "    image_file = os.path.join(data_dir, file_name)\n",
    "     # 읽어들어와 저장\n",
    "    image = cv2.imread(image_file)\n",
    "    # 엠디어레이로 저장되어 있기 때문에 그리고 cv2로 읽어오면 bgr로 읽어와서 바꿔주자    \n",
    "    image = cv2.cvtColor(image, cv2.COLOR_BGR2RGB)\n",
    "    return image"
   ]
  },
  {
   "cell_type": "code",
   "execution_count": 9,
   "id": "f4ae17c9",
   "metadata": {},
   "outputs": [
    {
     "data": {
      "application/vnd.jupyter.widget-view+json": {
       "model_id": "1444d62dde8e43549920687c9fe5db54",
       "version_major": 2,
       "version_minor": 0
      },
      "text/plain": [
       "interactive(children=(IntSlider(value=0, description='index', max=69), Output()), _dom_classes=('widget-intera…"
      ]
     },
     "metadata": {},
     "output_type": "display_data"
    }
   ],
   "source": [
    "# 3가지 사진의 수 가 다르기 때문에 3개의 길이를 구하고 최솟값을 구해 그 최솟값을 기준으로 만든다.\n",
    "min_num_files = min(len(normals_list), len(covids_list), len(pneumonias_list))\n",
    "# interact 슬라이딩 만들기 위해 0부터 70 -1 까지 범위를 지정한다\n",
    "@interact(index=(0, min_num_files-1))\n",
    "def show_samples(index=0):\n",
    "      # 현제 데이터 디렉토리에 정상인 사진들을 위 함수에 넣어 알지비로 넣어라\n",
    "    normal_image = get_RGB_image(data_dir, normals_list[index])\n",
    "    covid_image = get_RGB_image(data_dir, covids_list[index])\n",
    "    pneumonia_image = get_RGB_image(data_dir, pneumonias_list[index])\n",
    "    \n",
    "    plt.figure(figsize=(12, 8))\n",
    "    # matplotlib 여러 개의 그래프를 하나의 그림에 나타내도록 \n",
    "    # 3개의 그래프중 한개를 그리고 첫번째이다.    \n",
    "    plt.subplot(131)\n",
    "    plt.title('Normal')\n",
    "    plt.imshow(normal_image)\n",
    "    \n",
    "    plt.subplot(132)\n",
    "    plt.title('Covid')\n",
    "    plt.imshow(covid_image)\n",
    "    \n",
    "    plt.subplot(133)\n",
    "    plt.title('Pneumonia')\n",
    "    plt.imshow(pneumonia_image)\n",
    "    plt.tight_layout()"
   ]
  },
  {
   "cell_type": "markdown",
   "id": "921dce51",
   "metadata": {},
   "source": [
    "# 3. 학습 데이터셋 클래스 만들기\n",
    "\n",
    "- 데이터 셋: 데이터(샘플, 정답)을 저장한 것\n",
    "- 데이터 로더: 데이터셋을 접근하기 쉽게 객체(tierable)로 감싼 것"
   ]
  },
  {
   "cell_type": "code",
   "execution_count": 10,
   "id": "00ca8f96",
   "metadata": {},
   "outputs": [],
   "source": [
    "train_data_dir = './Covid19-dataset/train/'\n",
    "class_list = ['Normal', 'Covid', 'Viral Pneumonia']\n",
    "\n",
    "# 데이터셋 : 데이터(샘플, 검증)을 저장한 것\n",
    "# 데이터로더: 데이터셋을 접근하기 쉽도록 객체(iterable)로 감싼 것\n",
    "\n",
    "class Chest_dataset(Dataset):\n",
    "    def __init__(self, data_dir, transform=None): #transform=> train, Test인지 구분하기 위해서\n",
    "        self.data_dir = data_dir\n",
    "        normals = list_image_file(data_dir, 'Normal') # 데이터 뽑아오기\n",
    "        covids = list_image_file(data_dir, 'Covid')\n",
    "        pneumonias = list_image_file(data_dir, 'Viral Pneumonia')\n",
    "        self.files_path = normals + covids + pneumonias # 리스트를 다 더해라 : 갯수가 전부 합쳐지게 된다.\n",
    "        self.transform = transform\n",
    "        \n",
    "       # __len__ : len() 구현하기 위한   \n",
    "    def __len__(self):\n",
    "        return len(self.files_path)\n",
    "     # __getitem__ : 인덱스의 순서를 찾아주는 것, 인덱싱하게 되면 호출되는 메소드\n",
    "    def __getitem__(self, index):\n",
    "        image_file = os.path.join(self.data_dir, self.files_path[index])\n",
    "        image = cv2.imread(image_file)\n",
    "        image = cv2.cvtColor(image, cv2.COLOR_BGR2RGB)\n",
    "        # os.sep: 디렉토리 분리 문자를 리턴 (/), Normal/01.jpeg\n",
    "#         print(self.files_path[index].split(os.sep))\n",
    "#         print(self.files_path[index].split(os.sep)[-2])\n",
    "        target = class_list.index(self.files_path[index].split(os.sep)[-2])\n",
    "    #         target = class_list.index(self.files_path[index].split(os.sep)[0])\n",
    "        if self.transform:\n",
    "            image = self.transform(image)\n",
    "            target = torch.Tensor([target]).long()# 숫자로 변환 long형으로\n",
    "        return {'image':image, 'target':target}"
   ]
  },
  {
   "cell_type": "code",
   "execution_count": 11,
   "id": "088ac213",
   "metadata": {},
   "outputs": [],
   "source": [
    "dset = Chest_dataset(train_data_dir)"
   ]
  },
  {
   "cell_type": "code",
   "execution_count": 12,
   "id": "8f21c516",
   "metadata": {},
   "outputs": [
    {
     "data": {
      "text/plain": [
       "<matplotlib.image.AxesImage at 0x25104122eb0>"
      ]
     },
     "execution_count": 12,
     "metadata": {},
     "output_type": "execute_result"
    },
    {
     "data": {
      "image/png": "[encoded data removed]",
      "text/plain": [
       "<Figure size 640x480 with 1 Axes>"
      ]
     },
     "metadata": {},
     "output_type": "display_data"
    }
   ],
   "source": [
    "index = 100\n",
    "plt.title(class_list[dset[index]['target']])\n",
    "plt.imshow(dset[index]['image']) # 해당 번호의 이미지"
   ]
  },
  {
   "cell_type": "markdown",
   "id": "83137920",
   "metadata": {},
   "source": [
    "# 4. 배열에 연산 가능한 텐서로 변환하기"
   ]
  },
  {
   "cell_type": "code",
   "execution_count": 13,
   "id": "2a8ae84a",
   "metadata": {},
   "outputs": [],
   "source": [
    "# transforms.ToTenser(): 텐서로 변환하고 , 픽셀값으 ㅣ범위를 0 ~ 1 로 조정\n",
    "# Resize(): 사이즈를 설정 224* 224\n",
    "# Normalize() : 정규화, \n",
    "# 각 채널의 평균을 0.5 표준편차를 0.5로 정규화 하여 사용\n",
    "transformer = transforms.Compose([ # 리스트로 등록을 할것이다.\n",
    "transformer = transforms.Compose([\n",
    "    transforms.ToTensor(),\n",
    "    transforms.Resize((224, 224)), # 이미지 사이즈를 정사각형으로 크기를 동일화 시키는것이다.\n",
    "    transforms.Normalize(mean=[0.5, 0.5, 0.5],# 정규화를 통해 값을 범위안에 들어가게 0과 1사이에 맞게 \n",
    "                        std=[0.5, 0.5, 0.5]) )# 왜냐하면 서로 값이 다르는 경우가 있기 떄문에 척도를 동일하게 해준다.\n",
    "    \n",
    "])# 여러가지 작업을 한꺼번에 하게 하는것을 Compose를 이용"
   ]
  },
  {
   "cell_type": "code",
   "execution_count": 14,
   "id": "f589908f",
   "metadata": {},
   "outputs": [],
   "source": [
    "train_dset = Chest_dataset(train_data_dir, transformer)"
   ]
  },
  {
   "cell_type": "code",
   "execution_count": 15,
   "id": "f6ddaedc",
   "metadata": {},
   "outputs": [
    {
     "name": "stderr",
     "output_type": "stream",
     "text": [
      "c:\\users\\administrator\\appdata\\local\\programs\\python\\python38\\lib\\site-packages\\torchvision\\transforms\\functional.py:1603: UserWarning: The default value of the antialias parameter of all the resizing transforms (Resize(), RandomResizedCrop(), etc.) will change from None to True in v0.17, in order to be consistent across the PIL and Tensor backends. To suppress this warning, directly pass antialias=True (recommended, future default), antialias=None (current default, which means False for Tensors and True for PIL), or antialias=False (only works on Tensors - PIL will still use antialiasing). This also applies if you are using the inference transforms from the models weights: update the call to weights.transforms(antialias=True).\n",
      "  warnings.warn(\n"
     ]
    }
   ],
   "source": [
    "index = 100\n",
    "image = train_dset[index]['image']\n",
    "label = train_dset[index]['target']"
   ]
  },
  {
   "cell_type": "code",
   "execution_count": 16,
   "id": "c5844149",
   "metadata": {},
   "outputs": [
    {
     "name": "stdout",
     "output_type": "stream",
     "text": [
      "torch.Size([3, 224, 224]) tensor([1])\n"
     ]
    }
   ],
   "source": [
    "print(image.shape, label) print(image.shape, label) # tensor[1] : 코로나\n",
    "# 결과 : 3채널에 모양(크기)는 224*224, 코로나"
   ]
  },
  {
   "cell_type": "markdown",
   "id": "15821174",
   "metadata": {},
   "source": [
    "# 5. 데이터 로더 구현하기"
   ]
  },
  {
   "cell_type": "code",
   "execution_count": 17,
   "id": "3d4a02ac",
   "metadata": {},
   "outputs": [],
   "source": [
    "def build_dataloader(train_data_dir, val_data_dir):\n",
    "    dataloaders = {}\n",
    "    train_dset = Chest_dataset(train_data_dir, transformer)\n",
    "    # {'train': 데이터...}\n",
    "    dataloaders['train'] = DataLoader(train_dset, batch_size=4, shuffle=True, drop_last=True)\n",
    "     # 트레인 데이터를 4개 씩 섞고 ,drop_last=True 마지막거를 버려라 \n",
    "    # {'train' : 데이터...} 담긴 모습\n",
    "    # 각각의 데이터의 특징(웨이트)을 분류하기 위해 4개로 분류하였고 한번에 전부를 돌리는것보단 조금씩 분석을 하면\n",
    "    # 얼마만큼 틀렸거나 최적의 경로를 더 빨리 알 수 있기 때문에 적은 수인 4개 정도로 데이터를 분류하는것이 좋다.\n",
    "    # 251개를 한번에 돌리면 시간이 오래걸리고 반복시에도 시간 문제가 발생한다.\n",
    "    \n",
    "    val_dset = Chest_dataset(val_data_dir, transformer)\n",
    "    dataloaders['val'] = DataLoader(val_dset, batch_size=1, shuffle=False, drop_last=False)\n",
    "    \n",
    "    return dataloaders"
   ]
  },
  {
   "cell_type": "code",
   "execution_count": 18,
   "id": "3725b9de",
   "metadata": {},
   "outputs": [],
   "source": [
    "train_data_dir = './Covid19-dataset/train/' # 학습 데이타\n",
    "val_data_dir = './Covid19-dataset/test/' # 테스트 데이타\n",
    "dataloaders = build_dataloader(train_data_dir, val_data_dir)"
   ]
  },
  {
   "cell_type": "code",
   "execution_count": 19,
   "id": "7d49ce06",
   "metadata": {},
   "outputs": [
    {
     "name": "stdout",
     "output_type": "stream",
     "text": [
      "0 {'image': tensor([[[[-0.8308, -0.8916, -0.8677,  ..., -0.6797, -0.6646, -0.6471],\n",
      "          [-0.8873, -0.8942, -0.9002,  ..., -0.6770, -0.6627, -0.6460],\n",
      "          [-0.8754, -0.9074, -0.9250,  ..., -0.6893, -0.6627, -0.6432],\n",
      "          ...,\n",
      "          [-0.8985, -0.8763, -0.8768,  ..., -0.8388, -0.7755, -0.7307],\n",
      "          [-0.8009, -0.8575, -0.8137,  ..., -0.8462, -0.9196, -0.7088],\n",
      "          [-0.7368, -0.7897, -0.8608,  ..., -0.8182, -0.8737, -0.7346]],\n",
      "\n",
      "         [[-0.8308, -0.8916, -0.8677,  ..., -0.6797, -0.6646, -0.6471],\n",
      "          [-0.8873, -0.8942, -0.9002,  ..., -0.6770, -0.6627, -0.6460],\n",
      "          [-0.8754, -0.9074, -0.9250,  ..., -0.6893, -0.6627, -0.6432],\n",
      "          ...,\n",
      "          [-0.8985, -0.8763, -0.8768,  ..., -0.8388, -0.7755, -0.7307],\n",
      "          [-0.8009, -0.8575, -0.8137,  ..., -0.8462, -0.9196, -0.7088],\n",
      "          [-0.7368, -0.7897, -0.8608,  ..., -0.8182, -0.8737, -0.7346]],\n",
      "\n",
      "         [[-0.8308, -0.8916, -0.8677,  ..., -0.6797, -0.6646, -0.6471],\n",
      "          [-0.8873, -0.8942, -0.9002,  ..., -0.6770, -0.6627, -0.6460],\n",
      "          [-0.8754, -0.9074, -0.9250,  ..., -0.6893, -0.6627, -0.6432],\n",
      "          ...,\n",
      "          [-0.8985, -0.8763, -0.8768,  ..., -0.8388, -0.7755, -0.7307],\n",
      "          [-0.8009, -0.8575, -0.8137,  ..., -0.8462, -0.9196, -0.7088],\n",
      "          [-0.7368, -0.7897, -0.8608,  ..., -0.8182, -0.8737, -0.7346]]],\n",
      "\n",
      "\n",
      "        [[[-1.0000, -1.0000, -1.0000,  ...,  0.9282,  0.5004, -0.9459],\n",
      "          [-1.0000, -1.0000, -1.0000,  ..., -0.9413, -0.5848, -0.9731],\n",
      "          [-1.0000, -1.0000, -1.0000,  ...,  0.9393, -0.5843, -0.9447],\n",
      "          ...,\n",
      "          [-0.9922, -1.0000, -0.9997,  ..., -1.0000, -1.0000, -1.0000],\n",
      "          [-0.9870,  0.5032,  0.9987,  ..., -1.0000, -1.0000, -1.0000],\n",
      "          [-0.9613, -0.6391, -0.9975,  ..., -1.0000, -1.0000, -1.0000]],\n",
      "\n",
      "         [[-1.0000, -1.0000, -1.0000,  ...,  0.9282,  0.5004, -0.9459],\n",
      "          [-1.0000, -1.0000, -1.0000,  ..., -0.9413, -0.5848, -0.9731],\n",
      "          [-1.0000, -1.0000, -1.0000,  ...,  0.9393, -0.5843, -0.9447],\n",
      "          ...,\n",
      "          [-0.9922, -1.0000, -0.9997,  ..., -1.0000, -1.0000, -1.0000],\n",
      "          [-0.9870,  0.5032,  0.9987,  ..., -1.0000, -1.0000, -1.0000],\n",
      "          [-0.9613, -0.6391, -0.9975,  ..., -1.0000, -1.0000, -1.0000]],\n",
      "\n",
      "         [[-1.0000, -1.0000, -1.0000,  ...,  0.9282,  0.5004, -0.9459],\n",
      "          [-1.0000, -1.0000, -1.0000,  ..., -0.9413, -0.5848, -0.9731],\n",
      "          [-1.0000, -1.0000, -1.0000,  ...,  0.9393, -0.5843, -0.9447],\n",
      "          ...,\n",
      "          [-0.9922, -1.0000, -0.9997,  ..., -1.0000, -1.0000, -1.0000],\n",
      "          [-0.9870,  0.5032,  0.9987,  ..., -1.0000, -1.0000, -1.0000],\n",
      "          [-0.9613, -0.6391, -0.9975,  ..., -1.0000, -1.0000, -1.0000]]],\n",
      "\n",
      "\n",
      "        [[[-0.5189, -0.5431, -0.5126,  ...,  0.9880, -0.9370, -0.9115],\n",
      "          [-0.6902, -0.6732, -0.6734,  ..., -0.9116,  0.1379, -0.9497],\n",
      "          [-0.6745, -0.6796, -0.6734,  ..., -0.9188, -0.8106, -0.8681],\n",
      "          ...,\n",
      "          [-0.9923, -0.9955, -1.0000,  ..., -1.0000, -1.0000, -1.0000],\n",
      "          [-0.9619,  0.0067,  0.9732,  ..., -1.0000, -0.9765, -0.9882],\n",
      "          [ 0.2605,  0.9916, -0.9529,  ..., -1.0000, -0.9609,  0.2557]],\n",
      "\n",
      "         [[-0.5189, -0.5431, -0.5126,  ...,  0.9880, -0.9370, -0.9115],\n",
      "          [-0.6902, -0.6732, -0.6734,  ..., -0.9116,  0.1379, -0.9497],\n",
      "          [-0.6745, -0.6796, -0.6734,  ..., -0.9188, -0.8106, -0.8681],\n",
      "          ...,\n",
      "          [-0.9923, -0.9955, -1.0000,  ..., -1.0000, -1.0000, -1.0000],\n",
      "          [-0.9619,  0.0067,  0.9732,  ..., -1.0000, -0.9765, -0.9882],\n",
      "          [ 0.2605,  0.9916, -0.9529,  ..., -1.0000, -0.9609,  0.2557]],\n",
      "\n",
      "         [[-0.5189, -0.5431, -0.5126,  ...,  0.9880, -0.9370, -0.9115],\n",
      "          [-0.6902, -0.6732, -0.6734,  ..., -0.9116,  0.1379, -0.9497],\n",
      "          [-0.6745, -0.6796, -0.6734,  ..., -0.9188, -0.8106, -0.8681],\n",
      "          ...,\n",
      "          [-0.9923, -0.9955, -1.0000,  ..., -1.0000, -1.0000, -1.0000],\n",
      "          [-0.9619,  0.0067,  0.9732,  ..., -1.0000, -0.9765, -0.9882],\n",
      "          [ 0.2605,  0.9916, -0.9529,  ..., -1.0000, -0.9609,  0.2557]]],\n",
      "\n",
      "\n",
      "        [[[-0.7783, -0.7805, -0.7696,  ..., -0.6707, -0.5907, -0.6562],\n",
      "          [-0.5511, -0.6574, -0.7635,  ..., -0.6582, -0.6038, -0.6745],\n",
      "          [-0.2294, -0.2396, -0.3251,  ..., -0.7919, -0.7370, -0.7647],\n",
      "          ...,\n",
      "          [-0.9373, -0.9578, -0.9716,  ..., -0.9294, -0.9294, -0.9137],\n",
      "          [-0.9460, -0.9205, -0.9686,  ..., -0.9294, -0.8933, -0.8900],\n",
      "          [ 0.2520, -0.9582, -0.9716,  ..., -0.9294, -0.9289,  0.2413]],\n",
      "\n",
      "         [[-0.7783, -0.7805, -0.7696,  ..., -0.6707, -0.5907, -0.6562],\n",
      "          [-0.5511, -0.6574, -0.7635,  ..., -0.6582, -0.6038, -0.6745],\n",
      "          [-0.2294, -0.2396, -0.3251,  ..., -0.7919, -0.7370, -0.7647],\n",
      "          ...,\n",
      "          [-0.9373, -0.9578, -0.9716,  ..., -0.9294, -0.9294, -0.9137],\n",
      "          [-0.9460, -0.9205, -0.9686,  ..., -0.9294, -0.8933, -0.8900],\n",
      "          [ 0.2520, -0.9582, -0.9716,  ..., -0.9294, -0.9289,  0.2413]],\n",
      "\n",
      "         [[-0.7783, -0.7805, -0.7696,  ..., -0.6707, -0.5907, -0.6562],\n",
      "          [-0.5511, -0.6574, -0.7635,  ..., -0.6582, -0.6038, -0.6745],\n",
      "          [-0.2294, -0.2396, -0.3251,  ..., -0.7919, -0.7370, -0.7647],\n",
      "          ...,\n",
      "          [-0.9373, -0.9578, -0.9716,  ..., -0.9294, -0.9294, -0.9137],\n",
      "          [-0.9460, -0.9205, -0.9686,  ..., -0.9294, -0.8933, -0.8900],\n",
      "          [ 0.2520, -0.9582, -0.9716,  ..., -0.9294, -0.9289,  0.2413]]]]), 'target': tensor([[0],\n",
      "        [2],\n",
      "        [2],\n",
      "        [2]])}\n"
     ]
    }
   ],
   "source": [
    "for i, d in enumerate(dataloaders['train']): # 반복 인덱스 값과 데이터 값을 출력을 해보자\n",
    "    print(i, d)\n",
    "    if i == 0:\n",
    "        break\n",
    "        \n",
    "        # 출력 결과 한번 반복을 돌경우 4개로 나눴기 때문데 4개의 이미지가 있다.\n",
    "        # target을 최하단부에 보면 섞인 타겟이 4개인것을 알 수 있다."
   ]
  },
  {
   "cell_type": "code",
   "execution_count": 20,
   "id": "f07b8978",
   "metadata": {},
   "outputs": [
    {
     "data": {
      "text/plain": [
       "torch.Size([4, 1])"
      ]
     },
     "execution_count": 20,
     "metadata": {},
     "output_type": "execute_result"
    }
   ],
   "source": [
    "d['target'].shape"
   ]
  },
  {
   "cell_type": "code",
   "execution_count": 21,
   "id": "eeafecee",
   "metadata": {},
   "outputs": [],
   "source": [
    "# 이제 어떤 모델을 선택해서 데이타를 넣어볼 것인가?!\n",
    "# 모델을 직접 만들기도 하지만 기존 공개된 모델을 활용을 많이 한다.\n",
    "# 여러 모델을 여러번 돌려보고 성능이 괜찮은걸 사용한다...\n"
   ]
  },
  {
   "cell_type": "markdown",
   "id": "c4fde6bd",
   "metadata": {},
   "source": [
    "# 6. VGG19(classification) 모델 불러오기\n",
    "\n"
   ]
  },
  {
   "cell_type": "code",
   "execution_count": 22,
   "id": "cd5e71b3",
   "metadata": {},
   "outputs": [
    {
     "name": "stderr",
     "output_type": "stream",
     "text": [
      "c:\\users\\administrator\\appdata\\local\\programs\\python\\python38\\lib\\site-packages\\torchvision\\models\\_utils.py:208: UserWarning: The parameter 'pretrained' is deprecated since 0.13 and may be removed in the future, please use 'weights' instead.\n",
      "  warnings.warn(\n",
      "c:\\users\\administrator\\appdata\\local\\programs\\python\\python38\\lib\\site-packages\\torchvision\\models\\_utils.py:223: UserWarning: Arguments other than a weight enum or `None` for 'weights' are deprecated since 0.13 and may be removed in the future. The current behavior is equivalent to passing `weights=VGG19_Weights.IMAGENET1K_V1`. You can also use `weights=VGG19_Weights.DEFAULT` to get the most up-to-date weights.\n",
      "  warnings.warn(msg)\n"
     ]
    }
   ],
   "source": [
    "# pretrained=True: 미리 학습된 weight들을 가지고 옮\n",
    "# torchvision 의 models 사용...\n",
    "model = models.vgg19(pretrained=True)"
   ]
  },
  {
   "cell_type": "code",
   "execution_count": 23,
   "id": "c2483f49",
   "metadata": {},
   "outputs": [
    {
     "name": "stdout",
     "output_type": "stream",
     "text": [
      "Requirement already satisfied: torchsummary in c:\\users\\administrator\\appdata\\local\\programs\\python\\python38\\lib\\site-packages (1.5.1)\n"
     ]
    }
   ],
   "source": [
    "# pytorch 모델을 summary 해주는 모듈\n",
    "!pip install torchsummary"
   ]
  },
  {
   "cell_type": "code",
   "execution_count": 24,
   "id": "06ae5d69",
   "metadata": {},
   "outputs": [],
   "source": [
    "from torchsummary import summary\n",
    "# 세이프, 배치사이즈, 디바이스\n",
    "# param 가중치"
   ]
  },
  {
   "cell_type": "code",
   "execution_count": 25,
   "id": "864b4d45",
   "metadata": {},
   "outputs": [
    {
     "name": "stdout",
     "output_type": "stream",
     "text": [
      "----------------------------------------------------------------\n",
      "        Layer (type)               Output Shape         Param #\n",
      "================================================================\n",
      "            Conv2d-1          [1, 64, 224, 224]           1,792\n",
      "              ReLU-2          [1, 64, 224, 224]               0\n",
      "            Conv2d-3          [1, 64, 224, 224]          36,928\n",
      "              ReLU-4          [1, 64, 224, 224]               0\n",
      "         MaxPool2d-5          [1, 64, 112, 112]               0\n",
      "            Conv2d-6         [1, 128, 112, 112]          73,856\n",
      "              ReLU-7         [1, 128, 112, 112]               0\n",
      "            Conv2d-8         [1, 128, 112, 112]         147,584\n",
      "              ReLU-9         [1, 128, 112, 112]               0\n",
      "        MaxPool2d-10           [1, 128, 56, 56]               0\n",
      "           Conv2d-11           [1, 256, 56, 56]         295,168\n",
      "             ReLU-12           [1, 256, 56, 56]               0\n",
      "           Conv2d-13           [1, 256, 56, 56]         590,080\n",
      "             ReLU-14           [1, 256, 56, 56]               0\n",
      "           Conv2d-15           [1, 256, 56, 56]         590,080\n",
      "             ReLU-16           [1, 256, 56, 56]               0\n",
      "           Conv2d-17           [1, 256, 56, 56]         590,080\n",
      "             ReLU-18           [1, 256, 56, 56]               0\n",
      "        MaxPool2d-19           [1, 256, 28, 28]               0\n",
      "           Conv2d-20           [1, 512, 28, 28]       1,180,160\n",
      "             ReLU-21           [1, 512, 28, 28]               0\n",
      "           Conv2d-22           [1, 512, 28, 28]       2,359,808\n",
      "             ReLU-23           [1, 512, 28, 28]               0\n",
      "           Conv2d-24           [1, 512, 28, 28]       2,359,808\n",
      "             ReLU-25           [1, 512, 28, 28]               0\n",
      "           Conv2d-26           [1, 512, 28, 28]       2,359,808\n",
      "             ReLU-27           [1, 512, 28, 28]               0\n",
      "        MaxPool2d-28           [1, 512, 14, 14]               0\n",
      "           Conv2d-29           [1, 512, 14, 14]       2,359,808\n",
      "             ReLU-30           [1, 512, 14, 14]               0\n",
      "           Conv2d-31           [1, 512, 14, 14]       2,359,808\n",
      "             ReLU-32           [1, 512, 14, 14]               0\n",
      "           Conv2d-33           [1, 512, 14, 14]       2,359,808\n",
      "             ReLU-34           [1, 512, 14, 14]               0\n",
      "           Conv2d-35           [1, 512, 14, 14]       2,359,808\n",
      "             ReLU-36           [1, 512, 14, 14]               0\n",
      "        MaxPool2d-37             [1, 512, 7, 7]               0\n",
      "AdaptiveAvgPool2d-38             [1, 512, 7, 7]               0\n",
      "           Linear-39                  [1, 4096]     102,764,544\n",
      "             ReLU-40                  [1, 4096]               0\n",
      "          Dropout-41                  [1, 4096]               0\n",
      "           Linear-42                  [1, 4096]      16,781,312\n",
      "             ReLU-43                  [1, 4096]               0\n",
      "          Dropout-44                  [1, 4096]               0\n",
      "           Linear-45                  [1, 1000]       4,097,000\n",
      "================================================================\n",
      "Total params: 143,667,240\n",
      "Trainable params: 143,667,240\n",
      "Non-trainable params: 0\n",
      "----------------------------------------------------------------\n",
      "Input size (MB): 0.57\n",
      "Forward/backward pass size (MB): 238.69\n",
      "Params size (MB): 548.05\n",
      "Estimated Total Size (MB): 787.31\n",
      "----------------------------------------------------------------\n"
     ]
    }
   ],
   "source": [
    "summary(model, (3, 224, 224), batch_size=1, device='cuda') # 채널, 세로, 가로, device: cuda or cpu"
   ]
  },
  {
   "cell_type": "markdown",
   "id": "206dfe4e",
   "metadata": {},
   "source": [
    "# 7. CNN(Convolutional Neural Network)\n",
    "\n",
    "- 합성곱 인공 신경망\n",
    "- 전통적인 뉴럴 네트워크 컨볼루셔널 계층을 붙인 형태\n",
    "- 컨볼루셔널 계층을 통해서 입력 받은 이미지에 대한 특징(Feature)을 추출(전처리)하게 되고\n",
    "추출한 특징을 기반으로 기존의 뉴럴 네트워크에 이용하여 분류"
   ]
  },
  {
   "cell_type": "markdown",
   "id": "98c6261a",
   "metadata": {},
   "source": [
    "### 7-1. CNN을 사용하는 이유\n",
    "\n",
    "- 영상을 분류할 때 DNN(Deep Neural Network)의 문제점\n",
    "    - 일반적인 DNN은 1차원 형태의 데이터를 사용\n",
    "    - 2차원의 형태의 이미지가 입력되는 경우, flatten 시켜서 한줄로 데이터를 넣음\n",
    "    - 이미지의 공간적/지역적 정보가 손실됨\n",
    "- DNN의 문제점을 해결하기 위해 고안한 해결책 -> 이미지를 날것(raw input) 그대로 받음으로 공간적/지역적 정보를 유지\n"
   ]
  },
  {
   "cell_type": "markdown",
   "id": "013cf3c8",
   "metadata": {},
   "source": [
    "### 7-2. 컨볼루셔널 레이어(Convolutional Layer)\n",
    "\n",
    "- 입력 데이터로 부터 특징을 추출하는 역할\n",
    "- 특징을 추출하는 필터(Filter)를 사용함(https://setosa.io/ev/image-kernels/)\n",
    "- 필터의 값을 비선형 값으로 바꿔주는 액티베이션(Activationi) 함수를 사용\n"
   ]
  },
  {
   "cell_type": "markdown",
   "id": "38f0bdb5",
   "metadata": {},
   "source": [
    "### 7-3. 풀링\n",
    "\n",
    "- Feature map의 사이즈를 줄이는 방법\n",
    "- 데이터의 크기를 줄이고 싶을 때 선택적으로 사용\n",
    "- max pooling: 사이즈를 점진적으로 줄이는 방법, 선명한 정보만 남겨서 판단과 학습이 쉬워지고 노이즈가 줄어듦"
   ]
  },
  {
   "cell_type": "markdown",
   "id": "cfd30108",
   "metadata": {},
   "source": [
    "### 7-4. 패딩(padding)\n",
    "- CNN 네트워크 특징중 여러 단계에 걸쳐서 계속 필터를 연속적으로 적용하면 필터 적용 후 결과값이 처음에 비해 작아지게 됨 -> 특징이 유실 될 수 있음\n",
    "- 충분히 특징이 추출되기 전에 결과 값이 작아지지 않도록 패딩 기법을 사용\n",
    "- 입력값 주위로 0을 넣어서 입력 값의 크기를 인위적으로 키워 결과값이 작아지는 것을 방지"
   ]
  },
  {
   "cell_type": "markdown",
   "id": "0e38e9c6",
   "metadata": {},
   "source": [
    "### 7-5. 스트라이드(Stride)\n",
    "\n",
    "- 필터를 적용하는 간격(예: 우측으로 한칸씩 아래로 한칸씩 적용)을 설정\n",
    "- 필터를 적용해서 얻어낸 결과를 Feature map 또는 activation map이라고 부름\n"
   ]
  },
  {
   "cell_type": "markdown",
   "id": "ddd92ab5",
   "metadata": {},
   "source": [
    "### 7-6. 드룹아웃 레이어(Dropout Layer)\n",
    "\n",
    "- 오버피팅을 막기 위한 방법\n",
    "- 뉴럴 네트워크가 학습중일때 랜덤하게 값을 발생하여 학습을 방해함으로 학습용 데이터에 결과가 치우치는 것을 방지함\n"
   ]
  },
  {
   "cell_type": "markdown",
   "id": "8b7ae46a",
   "metadata": {},
   "source": [
    "### 7-7. FC Layer(Fully Connected Layer)\n",
    "\n",
    "- 이미지를 분류/설명하기 위해 예측하는 구간\n"
   ]
  },
  {
   "cell_type": "markdown",
   "id": "c0b2c947",
   "metadata": {},
   "source": [
    "# 8. 데이터에 맞게 모델 Head 부분을 수정하기\n",
    "\n"
   ]
  },
  {
   "cell_type": "code",
   "execution_count": 26,
   "id": "f2653d8d",
   "metadata": {},
   "outputs": [],
   "source": [
    "def build_vgg19_based_model(device_name='cpu'):\n",
    "    device = torch.device(device_name)\n",
    "    model = models.vgg19(pretrained=True)\n",
    "    model.avgpool = nn.AdaptiveAvgPool2d(output_size=(1, 1))\n",
    "    model.classifier = nn.Sequential(\n",
    "        nn.Flatten(),\n",
    "        nn.Linear(512, 256),\n",
    "        nn.ReLU(),\n",
    "        nn.Linear(256, len(class_list)),\n",
    "        nn.Softmax(dim=1)\n",
    "    )\n",
    "    return model.to(device)"
   ]
  },
  {
   "cell_type": "code",
   "execution_count": 27,
   "id": "90c5ea5e",
   "metadata": {},
   "outputs": [],
   "source": [
    "model = build_vgg19_based_model(device_name='cpu')"
   ]
  },
  {
   "cell_type": "code",
   "execution_count": 28,
   "id": "b6c108aa",
   "metadata": {},
   "outputs": [
    {
     "name": "stdout",
     "output_type": "stream",
     "text": [
      "----------------------------------------------------------------\n",
      "        Layer (type)               Output Shape         Param #\n",
      "================================================================\n",
      "            Conv2d-1          [1, 64, 224, 224]           1,792\n",
      "              ReLU-2          [1, 64, 224, 224]               0\n",
      "            Conv2d-3          [1, 64, 224, 224]          36,928\n",
      "              ReLU-4          [1, 64, 224, 224]               0\n",
      "         MaxPool2d-5          [1, 64, 112, 112]               0\n",
      "            Conv2d-6         [1, 128, 112, 112]          73,856\n",
      "              ReLU-7         [1, 128, 112, 112]               0\n",
      "            Conv2d-8         [1, 128, 112, 112]         147,584\n",
      "              ReLU-9         [1, 128, 112, 112]               0\n",
      "        MaxPool2d-10           [1, 128, 56, 56]               0\n",
      "           Conv2d-11           [1, 256, 56, 56]         295,168\n",
      "             ReLU-12           [1, 256, 56, 56]               0\n",
      "           Conv2d-13           [1, 256, 56, 56]         590,080\n",
      "             ReLU-14           [1, 256, 56, 56]               0\n",
      "           Conv2d-15           [1, 256, 56, 56]         590,080\n",
      "             ReLU-16           [1, 256, 56, 56]               0\n",
      "           Conv2d-17           [1, 256, 56, 56]         590,080\n",
      "             ReLU-18           [1, 256, 56, 56]               0\n",
      "        MaxPool2d-19           [1, 256, 28, 28]               0\n",
      "           Conv2d-20           [1, 512, 28, 28]       1,180,160\n",
      "             ReLU-21           [1, 512, 28, 28]               0\n",
      "           Conv2d-22           [1, 512, 28, 28]       2,359,808\n",
      "             ReLU-23           [1, 512, 28, 28]               0\n",
      "           Conv2d-24           [1, 512, 28, 28]       2,359,808\n",
      "             ReLU-25           [1, 512, 28, 28]               0\n",
      "           Conv2d-26           [1, 512, 28, 28]       2,359,808\n",
      "             ReLU-27           [1, 512, 28, 28]               0\n",
      "        MaxPool2d-28           [1, 512, 14, 14]               0\n",
      "           Conv2d-29           [1, 512, 14, 14]       2,359,808\n",
      "             ReLU-30           [1, 512, 14, 14]               0\n",
      "           Conv2d-31           [1, 512, 14, 14]       2,359,808\n",
      "             ReLU-32           [1, 512, 14, 14]               0\n",
      "           Conv2d-33           [1, 512, 14, 14]       2,359,808\n",
      "             ReLU-34           [1, 512, 14, 14]               0\n",
      "           Conv2d-35           [1, 512, 14, 14]       2,359,808\n",
      "             ReLU-36           [1, 512, 14, 14]               0\n",
      "        MaxPool2d-37             [1, 512, 7, 7]               0\n",
      "AdaptiveAvgPool2d-38             [1, 512, 1, 1]               0\n",
      "          Flatten-39                   [1, 512]               0\n",
      "           Linear-40                   [1, 256]         131,328\n",
      "             ReLU-41                   [1, 256]               0\n",
      "           Linear-42                     [1, 3]             771\n",
      "          Softmax-43                     [1, 3]               0\n",
      "================================================================\n",
      "Total params: 20,156,483\n",
      "Trainable params: 20,156,483\n",
      "Non-trainable params: 0\n",
      "----------------------------------------------------------------\n",
      "Input size (MB): 0.57\n",
      "Forward/backward pass size (MB): 238.31\n",
      "Params size (MB): 76.89\n",
      "Estimated Total Size (MB): 315.78\n",
      "----------------------------------------------------------------\n"
     ]
    }
   ],
   "source": [
    "summary(model, (3, 224, 224), batch_size=1, device='cuda')"
   ]
  },
  {
   "cell_type": "markdown",
   "id": "70762e43",
   "metadata": {},
   "source": [
    "# 9. 손실함수 불러오기\n",
    "\n",
    "- input x에 대한 예측값과 실제값 사이의 오차를 계산하는 함수\n",
    "- cost function: 모든 input dataset에 대하여 계산하는 함수\n"
   ]
  },
  {
   "cell_type": "code",
   "execution_count": 29,
   "id": "3284cbb1",
   "metadata": {},
   "outputs": [],
   "source": [
    "loss_func = nn.CrossEntropyLoss(reduction='mean')"
   ]
  },
  {
   "cell_type": "markdown",
   "id": "fe51ce97",
   "metadata": {},
   "source": [
    "# 10. Gradient 최적화 함수 불러오기\n",
    "\n"
   ]
  },
  {
   "cell_type": "code",
   "execution_count": 30,
   "id": "31c41c83",
   "metadata": {},
   "outputs": [],
   "source": [
    "optimizer = torch.optim.SGD(model.parameters(), lr=1E-3, momentum=0.9)"
   ]
  },
  {
   "cell_type": "markdown",
   "id": "fadc5839",
   "metadata": {},
   "source": [
    "### 10-1. 경사 하강법의 종류\n",
    "\n",
    "- 배치 경사 하강법\n",
    "    - 가장 기본적인 경사 하강법으로 Vanilla Gradient Descent 라고 부름\n",
    "    - 데이터셋 전체를 고려하여 손실함수를 계산\n",
    "    - 한 번의 Epoch에 모든 파라미터 업데이터를 단 한번만 수행\n",
    "    - Batch의 개수와 lteration은 1이고 Batch size는 전체 데이터의 갯수\n",
    "    - 파라미터 업데이트할 때 전체 데이터셋을 고려하기 때문에 모델 학습시 많은 시간과 메모리가 필요하다는 단점\n",
    "    \n",
    "- 확률적 경사 하강법(Stochastic Gradient Descent)\n",
    "    - 배치 경사 하강법이 모델 학습시 많은 시간과 메모리가 필요하다는 단점을 개선하기 위해 제안된 기법\n",
    "    - Batch size를 1로 설정하여 파라미터를 덥데이트하기 때문에 배치 경사 하강법보다 빠르고 적은 메모리로 학습이 진행\n",
    "    - 중복 데이터를 뽑을 가능성이 있음\n",
    "    - 파라미터 값의 업데이트 폭이 불안정\n",
    "    \n",
    "- 미니 배치 경사 하강법\n",
    "    - Batch size가 1도 아니고 전체 데이터 갯수도 아닌 경우\n",
    "    - 배치 경사 하강법보다 모델 학습 속도가 빠르고, 확률적 경사 하강법보다 안정적인 장점이 있음\n",
    "    - 일반적으로 Batch size를 2의 n제곱에 해당하는 값으로 설정\n",
    "    "
   ]
  },
  {
   "cell_type": "markdown",
   "id": "a5073084",
   "metadata": {},
   "source": [
    "### 10-2. 경사 하강법의 알고리즘\n",
    "\n",
    "- GD(Gradient Descent)\n",
    "    - 모든 데이터를 사용하여 계산하는 방법으로 학습시간이 오래 걸림\n",
    "- SGD(Stochastic Gradient Descent)\n",
    "    - 확률적 경사 하강법으로 모든 데이터에 대해 가중치를 조절하는 것이 아닌 랜덤으로 일부를 추출해서 가중치를 조절하는 방법\n",
    "- Momentum\n",
    "    - 관성을 사용하는 방법으로 local minima를 해결하기 위해 고안\n",
    "    - 이전의 방향을 기억하여 관성처럼 추가적인 이동을 하며 local minima 문제를 해결할 확률을 높임\n",
    "- Adagrad\n",
    "    - 학습률과 관련된 옵티마이저로, Adagrad라는 방식은 변수의 업데이트가 잦을수록 학습률을 조정하는 방식\n",
    "- RMSprop\n",
    "    - Adagrad은 학습률이 작아지는 문제가 발생\n",
    "    - 위 문제를 해결하기 위해 만들어진 옵티마이저로, 기울기를 단순히 누적하는 것이 아닌 가중이동평균을 사용하여 최근의 기울기에 더 높은 가중치를 두는 방식을 적용한 방법\n",
    "- Adam(Adaptive Moment Estimation)\n",
    "    - Momentum을 사용\n",
    "    - RMSprop처럼 지수이동평균을 사용하며 학습률을 조정\n",
    "    \n",
    "SGD와 Adam 두개를 최근 많이 사용한다..."
   ]
  },
  {
   "cell_type": "markdown",
   "id": "790660be",
   "metadata": {},
   "source": [
    "# 11. 모델 검증을 위한 Accuracy 생성하기"
   ]
  },
  {
   "cell_type": "code",
   "execution_count": 31,
   "id": "b1483eb4",
   "metadata": {},
   "outputs": [],
   "source": [
    "\n",
    "@torch.no_grad() # 아래 붙어 있는함수가 작동을 할때\n",
    "def get_accuracy(image, target, model):\n",
    "    batch_size = image.shape[0]\n",
    "    prediction = model(image)\n",
    "    _, pred_label = torch.max(prediction, dim=1)\n",
    "    is_correct = (pred_label == target)\n",
    "    return is_correct.cpu().numpy().sum() / batch_size"
   ]
  },
  {
   "cell_type": "markdown",
   "id": "80e8b9d9",
   "metadata": {},
   "source": [
    "# 12. 모델 학습을 위한 함수 구현하기"
   ]
  },
  {
   "cell_type": "code",
   "execution_count": 32,
   "id": "a7674506",
   "metadata": {},
   "outputs": [],
   "source": [
    "# 모델을 학습하기 위한 함수를 만들어보자\n",
    "device = torch.device('cpu')"
   ]
  },
  {
   "cell_type": "code",
   "execution_count": 33,
   "id": "3875cbd8",
   "metadata": {},
   "outputs": [],
   "source": [
    "# epcoh: 데이터 전체를 한바퀴를 돌리는것?\n",
    "# model: 우리가 학습한 모델\n",
    "def train_one_epoch(dataloaders, model, optimizer, loss_func, device):\n",
    "    losses = {} # 딕셔너리 타입으로 만들어준다...\n",
    "    accuracies = {} \n",
    "    \n",
    "    for tv in ['train', 'val']:\n",
    "        running_loss = 0.0 # 얼마만큼 틀렸니를 누적...\n",
    "        running_correct = 0 # 얼마만큼 맞았니를 누적...\n",
    "        \n",
    "        if tv == 'train':\n",
    "            model.train() # 학습을 시킨다...\n",
    "        else:\n",
    "            model.eval() # 학습에 대한 메모리는 날리고 검증에 대한 메모리만 남긴다... no_grad()와 비슷...\n",
    "            \n",
    "        for index, batch in enumerate(dataloaders[tv]): # dataloaders 라는 객체에 train or val를 넣어준다...\n",
    "            image = batch['image'].to(device)\n",
    "            target = batch['target'].squeeze(dim=1).to(device) # squeeze: 차원축소, dim=1로 하면 1차원으롤 줄여주고, 값이 없으면 한차원 줄여줌\n",
    "            \n",
    "            \n",
    "  # with : 파일 입출력에서 open을 사용하면 이 메소드들에 의해 사용되는 경우가 많은데, 마지막에 파일같은 경우에는\n",
    "        # close를 해줘야 하는데 with를 하면 open하고 closs 할 필요가 없고 with내에 들여쓰기하여 사용을 하면 된다.\n",
    "       # set_grad_enabled : 함수의미는 역전파 시키는 객체들을 메모리에 올려준다(학습에 필요한 데이터)\n",
    "    # with문은 if문이 아니고 train일 때 이 함수를 사용하라는 거지 다른 경우도 들어올 수 있다.\n",
    "            with torch.set_grad_enabled(tv == 'train'): # with: with문 밖으로 나가면 자원이 반납된다... val이어도 안으로 들어간다...\n",
    "                prediction = model(image) # 모델에 이미지를 넣어서 예측값을 구한다...\n",
    "                loss = loss_func(prediction, target)\n",
    "                \n",
    "                if tv == 'train':\n",
    "                    optimizer.zero_grad() # zero_grad(): 기울기 초기화 시키라는...안해주면 틀린 loss값을 누적하게 된다.\n",
    "                             # 옵티마이저 : SGD를 사용, zero_grad() : 초기화 시켜아\n",
    "                                        # 이 옵티마이저는 실제 예측값을 구하고 차를 구해 \n",
    "                        # 직선의 방정식에 의한 예측값을 뽑아 후에 \n",
    "                        # 미분을 구해 어느 쪽으로 이동해야 하는지 학습률만큼 이동을 하고 기울기가 같은 것으로\n",
    "                        # 초기화를 안하면 기울기 값을 구해야 하는데 계속 값이 추가되어   \n",
    "                    loss.backward() # 역전파 계산, 미분\n",
    "                    optimizer.step() # 새로운 기울기 적용\n",
    "                    \n",
    "            running_loss += loss.item()\n",
    "            running_correct += get_accuracy(image, target, model)\n",
    "            \n",
    "            if tv == 'train':\n",
    "                if index % 10 == 0:\n",
    "                    print(f\"{index}/{len(dataloaders['train'])} - Running loss: {loss.item()}\")\n",
    "                    \n",
    "        losses[tv] = running_loss / len(dataloaders[tv])\n",
    "        accuracies[tv] = running_correct / len(dataloaders[tv])\n",
    "    return losses, accuracies\n",
    "        "
   ]
  },
  {
   "cell_type": "code",
   "execution_count": 34,
   "id": "3208e784",
   "metadata": {},
   "outputs": [],
   "source": [
    "# 예측할때마다 학습을 시킨다면 오래걸리니 학습시킨 파일로 만들어준다\n",
    "# 모델을 저장한 파일을 생기게 만든다. 학습하면서 저장위해 계속 학습보단 있는 내용을 파일로 저장해서 활용하자\n",
    "def save_best_model(model_state, model_name, save_dir='./trained_model'):\n",
    "    os.makedirs(save_dir, exist_ok=True) # 존재하면 덮어쓰겠다...\n",
    "    torch.save(model_state, os.path.join(save_dir, model_name)) # 좋을때마다 저장해준다...\n",
    "    \n",
    "     # 계속 저장을 하면 너무 쓰잘데 없는 파일이 많이 생기기 때문에 로스 값이 적을 때만 저장을 할 조건을 정의하자"
   ]
  },
  {
   "cell_type": "markdown",
   "id": "5147f437",
   "metadata": {},
   "source": [
    "# 13. 모델 학습 수행하기\n"
   ]
  },
  {
   "cell_type": "code",
   "execution_count": 35,
   "id": "0a2f7086",
   "metadata": {},
   "outputs": [],
   "source": [
    "device = torch.device('cpu')\n",
    "\n",
    "train_data_dir = './Covid19-dataset/train'\n",
    "val_data_dir = './Covid19-dataset/test'\n",
    "\n",
    "dataloaders = build_dataloader(train_data_dir, val_data_dir)\n",
    "model = build_vgg19_based_model(device_name='cpu')\n",
    "loss_func = nn.CrossEntropyLoss(reduction='mean')\n",
    "optimizer = torch.optim.SGD(model.parameters(), lr=1E-3, momentum=0.9)"
   ]
  },
  {
   "cell_type": "code",
   "execution_count": null,
   "id": "4ee0b58c",
   "metadata": {},
   "outputs": [
    {
     "name": "stdout",
     "output_type": "stream",
     "text": [
      "0/62 - Running loss: 0.5514792799949646\n",
      "10/62 - Running loss: 0.5514469146728516\n",
      "20/62 - Running loss: 0.5514477491378784\n",
      "30/62 - Running loss: 0.5515957474708557\n",
      "40/62 - Running loss: 0.5515661835670471\n",
      "50/62 - Running loss: 0.5514467358589172\n",
      "60/62 - Running loss: 0.5515074133872986\n",
      "1/10 - Train Loss:0.555278088777296, val_Loss:0.5802884092836669\n",
      "1/10 - Train Loss:0.9959677419354839, val_Loss:0.9848484848484849\n",
      "0/62 - Running loss: 0.5524535775184631\n",
      "10/62 - Running loss: 0.5515562891960144\n",
      "20/62 - Running loss: 0.5514447689056396\n",
      "30/62 - Running loss: 0.5514456629753113\n",
      "40/62 - Running loss: 0.5514453649520874\n",
      "50/62 - Running loss: 0.5515145063400269\n",
      "60/62 - Running loss: 0.5514886379241943\n",
      "2/10 - Train Loss:0.5552779349588579, val_Loss:0.5802884092836669\n",
      "2/10 - Train Loss:0.9959677419354839, val_Loss:0.9848484848484849\n",
      "0/62 - Running loss: 0.551478385925293\n",
      "10/62 - Running loss: 0.5516049265861511\n",
      "20/62 - Running loss: 0.5521795153617859\n",
      "30/62 - Running loss: 0.5514485239982605\n",
      "40/62 - Running loss: 0.5516586899757385\n",
      "50/62 - Running loss: 0.551608681678772\n",
      "60/62 - Running loss: 0.5515137314796448\n",
      "3/10 - Train Loss:0.5552799432508407, val_Loss:0.5802884092836669\n",
      "3/10 - Train Loss:0.9959677419354839, val_Loss:0.9848484848484849\n",
      "0/62 - Running loss: 0.7747892141342163\n",
      "10/62 - Running loss: 0.5514951944351196\n",
      "20/62 - Running loss: 0.5514584183692932\n",
      "30/62 - Running loss: 0.5514536499977112\n",
      "40/62 - Running loss: 0.5514459609985352\n",
      "50/62 - Running loss: 0.5514475107192993\n"
     ]
    }
   ],
   "source": [
    "# num_epochs = 10 : 학습할 epoch 수를 설정합니다. 즉, 데이터셋 전체를 10번 반복하여 학습합니다.\n",
    "# best_acc = 0.0 : 현재까지 최고 정확도를 저장하는 변수를 0.0으로 초기화합니다.\n",
    "# train_loss, train_accuracy = [], [] : 학습 데이터셋의 손실과 정확도를 저장하기 위한 리스트를 생성합니다.\n",
    "# val_loss, val_accuracy = [], [] : 검증 데이터셋의 손실과 정확도를 저장하기 위한 리스트를 생성합니다.\n",
    "# 그리고 for loop을 통해 epoch 수만큼 반복하면서 다음 작업을 수행합니다.\n",
    "\n",
    "# train_one_epoch 함수를 호출하여 학습을 수행합니다. 이 함수는 dataloaders에서 가져온 배치 데이터를 사용하여 모델을 학습하고, 학습 데이터셋과 검증 데이터셋의 손실과 정확도를 계산합니다.\n",
    "# 각 epoch 마다 학습 데이터셋과 검증 데이터셋의 손실과 정확도를 각각의 리스트에 추가합니다.\n",
    "# 학습 정보를 출력합니다.\n",
    "# 만약 epoch 수가 3보다 크고 검증 데이터셋의 정확도가 현재까지의 최고 정확도보다 높은 경우, 모델의 상태를 best_model에 저장하고 최고 정확도를 best_acc에 저장합니다. 그리고 save_best_model 함수를 호출하여 최고 모델을 파일로 저장합니다.\n",
    "# 최종적으로 최고 정확도를 출력합니다.\n",
    "# 위 코드는 학습 과정에서 모델의 성능을 모니터링하고, 최고 성능을 달성한 모델의 상태를 저장하는 등의 다양한 기능을 포함하고 있습니다.\n",
    "\n",
    "num_epochs = 10\n",
    "best_acc = 0.0 # 가장 좋은 에크러시를 저장한다.\n",
    "train_loss, train_accuracy = [], []\n",
    "val_loss, val_accuracy = [], []\n",
    "\n",
    "for epoch in range(num_epochs):\n",
    "    losses, accuracies = train_one_epoch(dataloaders, model, optimizer, loss_func, device)\n",
    "    train_loss.append(losses['train'])\n",
    "    val_loss.append(losses['val'])\n",
    "    train_accuracy.append(accuracies['train'])\n",
    "    val_accuracy.append(accuracies['val'])\n",
    "    \n",
    "    print(f\"{epoch+1}/{num_epochs} - Train Loss:{losses['train']}, val_Loss:{losses['val']}\")\n",
    "    print(f\"{epoch+1}/{num_epochs} - Train Loss:{accuracies['train']}, val_Loss:{accuracies['val']}\")\n",
    "          \n",
    "    if(epoch > 3) and (accuracies['val'] > best_acc):\n",
    "        best_acc = accuracies['val']\n",
    "        best_model = copy.deepcopy(model.state_dict())\n",
    "        save_best_model(best_model, f'model_{epoch+1:02d}.pth')\n",
    "        \n",
    "print(f'Best Accracy: {best_acc}')"
   ]
  },
  {
   "cell_type": "code",
   "execution_count": 37,
   "id": "1aabcdd7",
   "metadata": {},
   "outputs": [
    {
     "data": {
      "image/png": "[encoded data removed]",
      "text/plain": [
       "<Figure size 600x500 with 2 Axes>"
      ]
     },
     "metadata": {},
     "output_type": "display_data"
    }
   ],
   "source": [
    "plt.figure(figsize=(6, 5))\n",
    "plt.subplot(211)\n",
    "plt.plot(train_loss, label='train')\n",
    "plt.plot(val_loss, label='val')\n",
    "plt.xlabel('epoch')\n",
    "plt.ylabel('loss')\n",
    "plt.grid('on')\n",
    "plt.legend()\n",
    "plt.subplot(212)\n",
    "plt.plot(train_accuracy, label='train')\n",
    "plt.plot(val_accuracy, label='val')\n",
    "plt.xlabel('epoch')\n",
    "plt.ylabel('accuracy')\n",
    "plt.grid('on')\n",
    "plt.legend()\n",
    "plt.tight_layout()"
   ]
  },
  {
   "cell_type": "markdown",
   "id": "8128a1f7",
   "metadata": {},
   "source": [
    "# 14. 테스트 이미지를 통한 학습모델 분류 성능 검증하기"
   ]
  },
  {
   "cell_type": "code",
   "execution_count": 38,
   "id": "5dcdcdbc",
   "metadata": {},
   "outputs": [],
   "source": [
    "data_dir = './Covid19-dataset/test/'\n",
    "class_list = ['Normal', 'Covid', 'Viral Pneumonia']\n",
    "\n",
    "test_normals_list = list_image_file(data_dir, 'Normal')\n",
    "test_covids_list = list_image_file(data_dir, 'Covid')\n",
    "test_pneumonias_list = list_image_file(data_dir, 'Viral Pneumonia')"
   ]
  },
  {
   "cell_type": "code",
   "execution_count": 39,
   "id": "627a7593",
   "metadata": {},
   "outputs": [],
   "source": [
    "def preprocess_image(image):\n",
    "    transformer = transforms.Compose([\n",
    "        transforms.ToTensor(),\n",
    "        transforms.Resize((224, 224)),\n",
    "        transforms.Normalize(mean=[0.5, 0.5, 0.5],\n",
    "                            std=[0.5, 0.5, 0.5]) # 값을 범위안에 들어가도록 재조정하는 것... 스탠다드스케일업\n",
    "\n",
    "    ])\n",
    "    \n",
    "    tensor_image = transformer(image) # C, H, W\n",
    "    tensor_image = tensor_image.unsqueeze(0) # 차원증가 B(batch), C, H, W\n",
    "    return tensor_image"
   ]
  },
  {
   "cell_type": "code",
   "execution_count": 40,
   "id": "3be7b49a",
   "metadata": {},
   "outputs": [],
   "source": [
    "def model_predict(image, model):\n",
    "    tensor_image = preprocess_image(image) # 전처리\n",
    "    prediction = model(tensor_image) # 예측\n",
    "    \n",
    "    _, pred_label = torch.max(prediction.detach(), dim=1) # 라벨을 떼서 최고값을 구함\n",
    "    print('prediction.detach: ', prediction.detach())\n",
    "    print('pred_label: ', pred_label)\n",
    "    pred_label = pred_label.squeeze(0)\n",
    "    print('pred_label2: ', pred_label)\n",
    "    return pred_label.item()\n",
    "    \n",
    "    "
   ]
  },
  {
   "cell_type": "code",
   "execution_count": 41,
   "id": "276f0aaa",
   "metadata": {},
   "outputs": [
    {
     "data": {
      "text/plain": [
       "VGG(\n",
       "  (features): Sequential(\n",
       "    (0): Conv2d(3, 64, kernel_size=(3, 3), stride=(1, 1), padding=(1, 1))\n",
       "    (1): ReLU(inplace=True)\n",
       "    (2): Conv2d(64, 64, kernel_size=(3, 3), stride=(1, 1), padding=(1, 1))\n",
       "    (3): ReLU(inplace=True)\n",
       "    (4): MaxPool2d(kernel_size=2, stride=2, padding=0, dilation=1, ceil_mode=False)\n",
       "    (5): Conv2d(64, 128, kernel_size=(3, 3), stride=(1, 1), padding=(1, 1))\n",
       "    (6): ReLU(inplace=True)\n",
       "    (7): Conv2d(128, 128, kernel_size=(3, 3), stride=(1, 1), padding=(1, 1))\n",
       "    (8): ReLU(inplace=True)\n",
       "    (9): MaxPool2d(kernel_size=2, stride=2, padding=0, dilation=1, ceil_mode=False)\n",
       "    (10): Conv2d(128, 256, kernel_size=(3, 3), stride=(1, 1), padding=(1, 1))\n",
       "    (11): ReLU(inplace=True)\n",
       "    (12): Conv2d(256, 256, kernel_size=(3, 3), stride=(1, 1), padding=(1, 1))\n",
       "    (13): ReLU(inplace=True)\n",
       "    (14): Conv2d(256, 256, kernel_size=(3, 3), stride=(1, 1), padding=(1, 1))\n",
       "    (15): ReLU(inplace=True)\n",
       "    (16): Conv2d(256, 256, kernel_size=(3, 3), stride=(1, 1), padding=(1, 1))\n",
       "    (17): ReLU(inplace=True)\n",
       "    (18): MaxPool2d(kernel_size=2, stride=2, padding=0, dilation=1, ceil_mode=False)\n",
       "    (19): Conv2d(256, 512, kernel_size=(3, 3), stride=(1, 1), padding=(1, 1))\n",
       "    (20): ReLU(inplace=True)\n",
       "    (21): Conv2d(512, 512, kernel_size=(3, 3), stride=(1, 1), padding=(1, 1))\n",
       "    (22): ReLU(inplace=True)\n",
       "    (23): Conv2d(512, 512, kernel_size=(3, 3), stride=(1, 1), padding=(1, 1))\n",
       "    (24): ReLU(inplace=True)\n",
       "    (25): Conv2d(512, 512, kernel_size=(3, 3), stride=(1, 1), padding=(1, 1))\n",
       "    (26): ReLU(inplace=True)\n",
       "    (27): MaxPool2d(kernel_size=2, stride=2, padding=0, dilation=1, ceil_mode=False)\n",
       "    (28): Conv2d(512, 512, kernel_size=(3, 3), stride=(1, 1), padding=(1, 1))\n",
       "    (29): ReLU(inplace=True)\n",
       "    (30): Conv2d(512, 512, kernel_size=(3, 3), stride=(1, 1), padding=(1, 1))\n",
       "    (31): ReLU(inplace=True)\n",
       "    (32): Conv2d(512, 512, kernel_size=(3, 3), stride=(1, 1), padding=(1, 1))\n",
       "    (33): ReLU(inplace=True)\n",
       "    (34): Conv2d(512, 512, kernel_size=(3, 3), stride=(1, 1), padding=(1, 1))\n",
       "    (35): ReLU(inplace=True)\n",
       "    (36): MaxPool2d(kernel_size=2, stride=2, padding=0, dilation=1, ceil_mode=False)\n",
       "  )\n",
       "  (avgpool): AdaptiveAvgPool2d(output_size=(1, 1))\n",
       "  (classifier): Sequential(\n",
       "    (0): Flatten(start_dim=1, end_dim=-1)\n",
       "    (1): Linear(in_features=512, out_features=256, bias=True)\n",
       "    (2): ReLU()\n",
       "    (3): Linear(in_features=256, out_features=3, bias=True)\n",
       "    (4): Softmax(dim=1)\n",
       "  )\n",
       ")"
      ]
     },
     "execution_count": 41,
     "metadata": {},
     "output_type": "execute_result"
    }
   ],
   "source": [
    "ckpt = torch.load('./trained_model/model_07.pth')\n",
    "\n",
    "model = build_vgg19_based_model()\n",
    "model.load_state_dict(ckpt) # 학습된 모델을 넣어줌\n",
    "model.eval()"
   ]
  },
  {
   "cell_type": "code",
   "execution_count": 45,
   "id": "2c3ed96c",
   "metadata": {},
   "outputs": [
    {
     "data": {
      "application/vnd.jupyter.widget-view+json": {
       "model_id": "ef9a043fa3fd46d3b04ea341d36c66fd",
       "version_major": 2,
       "version_minor": 0
      },
      "text/plain": [
       "interactive(children=(IntSlider(value=0, description='index', max=69), Output()), _dom_classes=('widget-intera…"
      ]
     },
     "metadata": {},
     "output_type": "display_data"
    }
   ],
   "source": [
    "min_num_files = min(len(normals_list), len(covids_list), len(pneumonias_list))\n",
    "\n",
    "@interact(index=(0, min_num_files-1))\n",
    "def show_result(index=0):\n",
    "    normal_image = get_RGB_image(data_dir, test_normals_list[index])\n",
    "    covid_image = get_RGB_image(data_dir, test_covids_list[index])\n",
    "    pneumonia_image = get_RGB_image(data_dir, test_pneumonias_list[index])\n",
    "    \n",
    "    prediction_1 = model_predict(normal_image, model)\n",
    "    prediction_2 = model_predict(covid_image, model)\n",
    "    prediction_3 = model_predict(pneumonia_image, model)\n",
    "    \n",
    "    \n",
    "    plt.figure(figsize=(12, 8))\n",
    "    \n",
    "    plt.subplot(131)\n",
    "    plt.title(f'Pred:{class_list[prediction_1]} | GT:Normal')\n",
    "    plt.imshow(normal_image)\n",
    "    \n",
    "    plt.subplot(132)\n",
    "    plt.title(f'Pred:{class_list[prediction_2]} | GT:Covid')\n",
    "    plt.imshow(covid_image)\n",
    "    \n",
    "    plt.subplot(133)\n",
    "    plt.title(f'Pred:{class_list[prediction_3]} | GT:Pneumonia')\n",
    "    plt.imshow(pneumonia_image)\n",
    "    plt.tight_layout()"
   ]
  },
  {
   "cell_type": "markdown",
   "id": "50c9130a",
   "metadata": {},
   "source": [
    "# 15. 결론\n",
    "* CNN에 대한 학습\n",
    "* 이미지 데이터셋 구축\n",
    "* Torchvision transforms 라이브러리를 활용한 텐서형 데이터 변환\n",
    "* VGG 19 모델을 불러와 Head 부분을 수정\n",
    "* Cross entropy Loss Function, SGDM 적용\n",
    "* 인간 추론원리와 닮은 딥러닝 결과 출력"
   ]
  },
  {
   "cell_type": "code",
   "execution_count": null,
   "id": "2e5dcedd",
   "metadata": {},
   "outputs": [],
   "source": []
  }
 ],
 "metadata": {
  "kernelspec": {
   "display_name": "Python 3 (ipykernel)",
   "language": "python",
   "name": "python3"
  },
  "language_info": {
   "codemirror_mode": {
    "name": "ipython",
    "version": 3
   },
   "file_extension": ".py",
   "mimetype": "text/x-python",
   "name": "python",
   "nbconvert_exporter": "python",
   "pygments_lexer": "ipython3",
   "version": "3.8.6"
  }
 },
 "nbformat": 4,
 "nbformat_minor": 5
}
